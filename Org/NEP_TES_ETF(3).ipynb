{
 "cells": [
  {
   "cell_type": "code",
   "execution_count": 4,
   "metadata": {},
   "outputs": [],
   "source": [
    "import matplotlib\n",
    "import matplotlib.pyplot as plt\n",
    "import numpy as np\n",
    "from scipy.optimize import *\n",
    "import pandas as pd\n",
    "import cmath as cm"
   ]
  },
  {
   "cell_type": "code",
   "execution_count": 80,
   "metadata": {},
   "outputs": [
    {
     "data": {
      "text/plain": [
       "2.0678338907047987e-15"
      ]
     },
     "execution_count": 80,
     "metadata": {},
     "output_type": "execute_result"
    }
   ],
   "source": [
    "#Universal Constants\n",
    "h=6.6260700e-34             #Planck's Constant\n",
    "kb=1.38064852e-23           #Boltzmann's Constant\n",
    "c=2.998e8;                  #Light Velocity in vacuum\n",
    "q=1.602176565e-19;          #Electron Charge\n",
    "Ev=q;                       #Electronvolt\n",
    "em=9.1093837015e-31;         #Electron Mass\n",
    "Phi0=h/(2*q);               #Quantum Magnetic Flux\n",
    "\n",
    "Phi0"
   ]
  },
  {
   "cell_type": "code",
   "execution_count": 81,
   "metadata": {},
   "outputs": [],
   "source": [
    "# CMB Power Parameters \n",
    "Tcmb=2.73;                      #CMB Temperature\n",
    "freq=np.arange(40e9,200e9,1e9); #Frequency vector\n",
    "emiss=0.5;                      #Emissivity\n",
    "bwrel=0.3                       #relative bandwidth "
   ]
  },
  {
   "cell_type": "code",
   "execution_count": 82,
   "metadata": {},
   "outputs": [
    {
     "name": "stdout",
     "output_type": "stream",
     "text": [
      "Pcmb=3.448e-13W\n"
     ]
    }
   ],
   "source": [
    "# CMB Power Calculation\n",
    "wav=c/freq;                     #Wavelenght vector\n",
    "sang=(wav)**2;                  #Solid angle of antenna\n",
    "B=((2*h*freq**3)/(c**2))*(1/(np.exp((h*freq)/(kb*Tcmb))-1));  #Spectral Radiance\n",
    "P=emiss*B*sang*bwrel*freq;                                    #Power\n",
    "\n",
    "Pcmb=P[110];\n",
    "\n",
    "#print Params\n",
    "print(\"Pcmb=%7.3eW\" %Pcmb)"
   ]
  },
  {
   "cell_type": "code",
   "execution_count": 124,
   "metadata": {},
   "outputs": [],
   "source": [
    "#TES parameters\n",
    "Top=300e-3;     #Operating Temperature \n",
    "G=70e-12;       #G W/K\n",
    "C=500e-12;        #Thermal Capacitance\n",
    "R=5000;        #TES respositivity with ETF A/W\n",
    "Mc=50e-12;      #Inductive Coupling to SQUID"
   ]
  },
  {
   "cell_type": "code",
   "execution_count": 125,
   "metadata": {},
   "outputs": [
    {
     "name": "stdout",
     "output_type": "stream",
     "text": [
      "NEP=1.865e-17W/sqrt(Hz) dE=3.656e+02\n"
     ]
    }
   ],
   "source": [
    "#NEP and Energy Resolution\n",
    "NEP=np.sqrt(4*kb*(Top**2)*G)       #Noise Equivalent Power W/sqrt(Hz) - Bolometer\n",
    "dE=2.35*np.sqrt(kb*(Top**2)*C)/Ev  #Energy Resolution eV - Calorimeter\n",
    "\n",
    "#print Params\n",
    "print(\"NEP=%7.3eW/sqrt(Hz)\" %NEP,\"dE=%7.3e\" %dE)"
   ]
  },
  {
   "cell_type": "code",
   "execution_count": 126,
   "metadata": {},
   "outputs": [
    {
     "name": "stdout",
     "output_type": "stream",
     "text": [
      "NEPmin=4.140e-18W/sqrt(Hz) NEPmax=1.069e-17W/sqrt(Hz)\n"
     ]
    }
   ],
   "source": [
    "#NEP based on CMB power usig strong ETF\n",
    "Lmin=3;                               #ETF constant min\n",
    "Lmax=20;                               #ETF constant max\n",
    "NEPmin=np.sqrt(Lmin*4*kb*Top*Pcmb)       #Noise Equivalent Power W/sqrt(Hz) max\n",
    "NEPmax=np.sqrt(Lmax*4*kb*Top*Pcmb)       #Noise Equivalent Power W/sqrt(Hz) min\n",
    "\n",
    "#Print Params\n",
    "print(\"NEPmin=%7.3eW/sqrt(Hz)\" %NEPmin,\"NEPmax=%7.3eW/sqrt(Hz)\" %NEPmax)"
   ]
  },
  {
   "cell_type": "code",
   "execution_count": 127,
   "metadata": {},
   "outputs": [
    {
     "name": "stdout",
     "output_type": "stream",
     "text": [
      "NEPcmb=8.592e-18W/sqrt(Hz) NEPcmb-p=8.279e-18W/sqrt(Hz)\n"
     ]
    }
   ],
   "source": [
    "# NEP Parameters\n",
    "m=1;               #m=1 polarized detector,m=2 otherwise.\n",
    "bw=bwrel*freq;     #Bandwidth.\n",
    "\n",
    "#CMB NEP Calculation\n",
    "NEPcmb=np.sqrt(2*h*freq*P+(2*P**2)/(m*bw));  #Noise Equivalent Power with bunching term\n",
    "NEPcmbp=np.sqrt(2*h*freq*P);                 #Noise Equivalent Power Poisson only\n",
    "\n",
    "#Print Params\n",
    "print(\"NEPcmb=%7.3eW/sqrt(Hz)\" %NEPcmb[110],\"NEPcmb-p=%7.3eW/sqrt(Hz)\" %NEPcmbp[110])"
   ]
  },
  {
   "cell_type": "code",
   "execution_count": 128,
   "metadata": {},
   "outputs": [
    {
     "name": "stdout",
     "output_type": "stream",
     "text": [
      "FSD=5.345e-14 Phi0/sqrt(Hz)\n"
     ]
    }
   ],
   "source": [
    "#NEP to flux spectral density\n",
    "PSDi=np.sqrt((NEPmax*R)**2)\n",
    "\n",
    "#Print Params\n",
    "print(\"FSD=%7.3e A/sqrt(Hz)\" %FSD)"
   ]
  },
  {
   "cell_type": "code",
   "execution_count": 129,
   "metadata": {},
   "outputs": [
    {
     "ename": "SyntaxError",
     "evalue": "invalid syntax (<ipython-input-129-b158aa017266>, line 2)",
     "output_type": "error",
     "traceback": [
      "\u001b[0;36m  File \u001b[0;32m\"<ipython-input-129-b158aa017266>\"\u001b[0;36m, line \u001b[0;32m2\u001b[0m\n\u001b[0;31m    Tn=\u001b[0m\n\u001b[0m       ^\u001b[0m\n\u001b[0;31mSyntaxError\u001b[0m\u001b[0;31m:\u001b[0m invalid syntax\n"
     ]
    }
   ],
   "source": [
    "#LNA Noise Temperature from FDS\n",
    "Tn="
   ]
  },
  {
   "cell_type": "code",
   "execution_count": null,
   "metadata": {},
   "outputs": [],
   "source": []
  }
 ],
 "metadata": {
  "kernelspec": {
   "display_name": "Python 3",
   "language": "python",
   "name": "python3"
  },
  "language_info": {
   "codemirror_mode": {
    "name": "ipython",
    "version": 3
   },
   "file_extension": ".py",
   "mimetype": "text/x-python",
   "name": "python",
   "nbconvert_exporter": "python",
   "pygments_lexer": "ipython3",
   "version": "3.7.6"
  }
 },
 "nbformat": 4,
 "nbformat_minor": 4
}
