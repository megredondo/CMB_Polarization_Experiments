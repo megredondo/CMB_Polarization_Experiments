{
 "cells": [
  {
   "cell_type": "code",
   "execution_count": 51,
   "metadata": {},
   "outputs": [],
   "source": [
    "import matplotlib\n",
    "import matplotlib.pyplot as plt\n",
    "import numpy as np\n",
    "from scipy.optimize import *\n",
    "import pandas as pd\n",
    "import cmath as cm"
   ]
  },
  {
   "cell_type": "code",
   "execution_count": 52,
   "metadata": {},
   "outputs": [],
   "source": [
    "#Universal Constants\n",
    "h=6.6260700e-34             #Planck's Constant\n",
    "kb=1.38064852e-23           #Boltzmann's Constant\n",
    "c=2.998e8;                  #Light Velocity in vacuum\n",
    "q=1.602176565e-19;          #Electron Charge\n",
    "Ev=q;                       #Electronvolt\n",
    "em=9.1093837015e-31;        #Electron Mass\n",
    "Phi0=h/(2*q);               #Quantum Magnetic Flux"
   ]
  },
  {
   "cell_type": "code",
   "execution_count": 53,
   "metadata": {},
   "outputs": [],
   "source": [
    "#TES parameters\n",
    "Top=300e-3;     #Operating Temperature \n",
    "G=70e-12;       #G W/K\n",
    "C=500e-12;        #Thermal Capacitance\n",
    "Res=1100000;        #TES respositivity with ETF A/W\n",
    "Mctes=50e-12;      #Inductive Coupling to SQUID"
   ]
  },
  {
   "cell_type": "code",
   "execution_count": 54,
   "metadata": {},
   "outputs": [],
   "source": [
    "# SQUID Parameters \n",
    "Lj=60e-12;               #(Josepson inductance Lj=h_bar/2eIc)       \n",
    "Mc=1.65e-12;                #Screening Mutual Inductance"
   ]
  },
  {
   "cell_type": "code",
   "execution_count": 55,
   "metadata": {},
   "outputs": [],
   "source": [
    "# Parameters Resonator\n",
    "f1=6e9;               #Unperturbed Resonance Frequency\n",
    "Z1=50;                #Resonator Impedance\n",
    "Cc=1e-15;             #Coupling Capacitance\n",
    "Attdb=20;             #Resonator Attenuation"
   ]
  },
  {
   "cell_type": "code",
   "execution_count": 56,
   "metadata": {},
   "outputs": [],
   "source": [
    "# Readout Parameters\n",
    "N=400                    #tones \n",
    "fmax=8e9;                  #final frequency\n",
    "fmin=4e9;                  #Initial frequency\n",
    "Spacing=(fmax-fmin)/N    #Resonator Spacing \n",
    "BW=4e3;                  #Readout Bandwidth resonator\n",
    "Prdbm=-60;               #Readout Power per pixel"
   ]
  },
  {
   "cell_type": "code",
   "execution_count": 57,
   "metadata": {},
   "outputs": [
    {
     "name": "stdout",
     "output_type": "stream",
     "text": [
      "FSD=4.522e-01 uPhi0/sqrt(Hz) PDSi=1.870e-11 A/sqrt(Hz)\n"
     ]
    }
   ],
   "source": [
    "#NEP to flux spectral density\n",
    "NEP=1.7e-17;\n",
    "PSDi=NEP*Res;                        #Current Spectal density due to CMB noise on TES. \n",
    "\n",
    "FSD=PSDi*Mctes;                     #Flux Spectral density refered to SQUD due to CMB signal on TES \n",
    "FSDu=FSD/Phi0/1e-6;                   \n",
    "\n",
    "#Print Params\n",
    "print(\"FSD=%7.3e uPhi0/sqrt(Hz)\" %FSDu, \"PDSi=%7.3e A/sqrt(Hz)\" %PSDi)"
   ]
  },
  {
   "cell_type": "code",
   "execution_count": 58,
   "metadata": {},
   "outputs": [
    {
     "name": "stdout",
     "output_type": "stream",
     "text": [
      "NEPcalc=4.175e-17W/sqrt(Hz)\n"
     ]
    }
   ],
   "source": [
    "#LNA Noise Temperature to NEP\n",
    "Te=30;                                   #Noise Temperature\n",
    "NEPcalc=np.sqrt(4*kb*Lj*Te/(np.pi*f1))/Mctes/Res; \n",
    "\n",
    "#print Params\n",
    "print(\"NEPcalc=%7.3eW/sqrt(Hz)\" %NEPcalc)"
   ]
  },
  {
   "cell_type": "code",
   "execution_count": 59,
   "metadata": {},
   "outputs": [
    {
     "name": "stdout",
     "output_type": "stream",
     "text": [
      "Tn=4.973e+00 K\n"
     ]
    }
   ],
   "source": [
    "#LNA Noise Temperature from FDS\n",
    "Tn=(FSD**2)*np.pi*f1/(4*kb*Lj)\n",
    "\n",
    "#Print Params\n",
    "print(\"Tn=%7.3e K\" %Tn)"
   ]
  },
  {
   "cell_type": "code",
   "execution_count": 60,
   "metadata": {},
   "outputs": [
    {
     "name": "stdout",
     "output_type": "stream",
     "text": [
      "SNR=75.61 dB\n"
     ]
    }
   ],
   "source": [
    "# Readout SNR per pixel\n",
    "\n",
    "Pout=(1e-3)*10**((Prdbm-Attdb)/10);            #Output Signal Power\n",
    "Nout=kb*Tn*BW;                                 #Output Noise\n",
    "\n",
    "#SNR Calculation\n",
    "SNR=10*np.log10(Pout/Nout)\n",
    "\n",
    "#Print Params\n",
    "print(\"SNR=%3.2f dB\" %SNR)"
   ]
  },
  {
   "cell_type": "code",
   "execution_count": 61,
   "metadata": {},
   "outputs": [
    {
     "name": "stdout",
     "output_type": "stream",
     "text": [
      "Ptot=-54.0 dBm Arms=4.47e-04 V Amaxt=1.79e-03 V\n"
     ]
    }
   ],
   "source": [
    "# RF Power and voltage in lines after uMUX\n",
    "Ptot=Prdbm-Attdb+10*np.log10(N)\n",
    "\n",
    "Armst=10**((Ptot-10)/20)/np.sqrt(2);            #Output Signal Power\n",
    "Amaxt=4*Armst;\n",
    "\n",
    "#Print Params\n",
    "print(\"Ptot=%3.1f dBm\" %Ptot, \"Arms=%3.2e V\" %Armst, \"Amaxt=%3.2e V\" %Amaxt)"
   ]
  },
  {
   "cell_type": "code",
   "execution_count": 62,
   "metadata": {},
   "outputs": [
    {
     "name": "stdout",
     "output_type": "stream",
     "text": [
      "Ptot=-18.0 dBm Arms=2.82e-02 V Amaxt=1.13e-01 V\n"
     ]
    }
   ],
   "source": [
    "# RF Power and voltage in lines after uMUX\n",
    "Glna=36;\n",
    "Ptot=Prdbm-Attdb+10*np.log10(N)+Glna\n",
    "\n",
    "Armst=10**((Ptot-10)/20)/np.sqrt(2);            #Output Signal Power\n",
    "Amaxt=4*Armst;\n",
    "\n",
    "#Print Params\n",
    "print(\"Ptot=%3.1f dBm\" %Ptot, \"Arms=%3.2e V\" %Armst, \"Amaxt=%3.2e V\" %Amaxt)"
   ]
  },
  {
   "cell_type": "code",
   "execution_count": 63,
   "metadata": {},
   "outputs": [
    {
     "name": "stdout",
     "output_type": "stream",
     "text": [
      "NFt=1.01985 NFtdb=0.085 dB\n"
     ]
    }
   ],
   "source": [
    "#RF Rx Chain parameters dB\n",
    "NFlna=10*np.log10(1+Tn/300)                   #LNA noise Figure\n",
    "NFdb=np.array([NFlna,10.0,10.0,10.0,10.0])    #Noise Figure dB \n",
    "Gdb=np.array([36,10,-5,10,-5])                #Gain dB\n",
    "IIP3db=np.array([-44,-2,-2,-2,-2])               #Outout IP3 dB\n",
    "\n",
    "#RF Rx Chain parameters conversion\n",
    "NF=10**(NFdb/10)                   #Noise Figure\n",
    "G=10**(Gdb/10)                     #Gain\n",
    "IIP3=(1e-3)*10**(IIP3db/10)        #IIP3\n",
    "\n",
    "#NF and IP3 calculation\n",
    "NFt=NF[0]+(NF[1]-1)/G[0]+(NF[2]-1)/(G[0]*G[1])+(NF[3]-1)/(G[0]*G[1]*G[2])+(NF[4]-1)/(G[0]*G[1]*G[2]*G[3])\n",
    "\n",
    "NFtdb=10*np.log10(NFt)\n",
    "\n",
    "print(\"NFt=%3.5f\" %NFt,\"NFtdb=%3.3f dB\" %NFtdb)"
   ]
  },
  {
   "cell_type": "code",
   "execution_count": 137,
   "metadata": {},
   "outputs": [
    {
     "name": "stdout",
     "output_type": "stream",
     "text": [
      "NFtf=1.01884 NFtfdb=0.081\n"
     ]
    }
   ],
   "source": [
    "#Noise Figure chain function\n",
    "def noisefig(NF,G):\n",
    "    Gp=G\n",
    "    NFt=NF[0]\n",
    "    for i in range(1,len(NF)):\n",
    "        Gp[i]=Gp[i-1]*G[i]\n",
    "    for k in range(1,len(NF)-1):\n",
    "        NFt+=(NF[k]-1)/Gp[k-1]\n",
    "    return NFt\n",
    "\n",
    "NFtf=noisefig(NF,G)\n",
    "NFtfdb=10*np.log10(NFtf)\n",
    "\n",
    "print(\"NFtf=%3.5f\" %NFtf,\"NFtfdb=%3.3f\" %NFtfdb)"
   ]
  },
  {
   "cell_type": "code",
   "execution_count": 147,
   "metadata": {},
   "outputs": [
    {
     "name": "stdout",
     "output_type": "stream",
     "text": [
      "IIP3t=0.33333 IIP3tdb=-4.77121\n"
     ]
    }
   ],
   "source": [
    "#IP3 chain function\n",
    "def noiseip(P3,G):\n",
    "    ip3p=P3\n",
    "    for i in range(1,len(P3)):\n",
    "        ip3p[i]=1/(1/(ip3p[i-1]*G[i])+1/P3[i])\n",
    "    return ip3p[2]\n",
    "                \n",
    "IIP3t=noiseip([1.,1.,1],[1.,1.,1])\n",
    "IIP3tdb=10*np.log10(IIP3t)\n",
    "\n",
    "print(\"IIP3t=%3.5f\" %IIP3t,\"IIP3tdb=%3.5f\" %IIP3tdb)"
   ]
  },
  {
   "cell_type": "code",
   "execution_count": 109,
   "metadata": {},
   "outputs": [
    {
     "data": {
      "text/plain": [
       "2"
      ]
     },
     "execution_count": 109,
     "metadata": {},
     "output_type": "execute_result"
    }
   ],
   "source": [
    "len([1,1])"
   ]
  },
  {
   "cell_type": "code",
   "execution_count": 144,
   "metadata": {},
   "outputs": [
    {
     "name": "stdout",
     "output_type": "stream",
     "text": [
      "[1.0, 0.5]\n"
     ]
    }
   ],
   "source": [
    "ip3p=[1.,1.]\n",
    "G=[1.,1.]\n",
    "P3=ip3p;\n",
    "for i in range(1,len(P3)):\n",
    "        ip3p[i]=1/(1/(ip3p[i-1]*G[i])+1/P3[i])\n",
    "\n",
    "print(ip3p)"
   ]
  },
  {
   "cell_type": "code",
   "execution_count": null,
   "metadata": {},
   "outputs": [],
   "source": []
  }
 ],
 "metadata": {
  "kernelspec": {
   "display_name": "Python 3",
   "language": "python",
   "name": "python3"
  },
  "language_info": {
   "codemirror_mode": {
    "name": "ipython",
    "version": 3
   },
   "file_extension": ".py",
   "mimetype": "text/x-python",
   "name": "python",
   "nbconvert_exporter": "python",
   "pygments_lexer": "ipython3",
   "version": "3.7.6"
  }
 },
 "nbformat": 4,
 "nbformat_minor": 4
}
