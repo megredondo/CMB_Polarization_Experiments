{
 "cells": [
  {
   "cell_type": "code",
   "execution_count": null,
   "metadata": {},
   "outputs": [],
   "source": [
    "import matplotlib\n",
    "import matplotlib.pyplot as plt\n",
    "import numpy as np"
   ]
  },
  {
   "cell_type": "code",
   "execution_count": null,
   "metadata": {},
   "outputs": [],
   "source": [
    "# Universal Parameters and constants\n",
    "h=6.62607004e-34;           #Plank Constant\n",
    "e=9.1093837015e-31;         #Electron Mass\n",
    "Phi0=h/(2*e);               #Quantum Magnetic Flux"
   ]
  },
  {
   "cell_type": "code",
   "execution_count": null,
   "metadata": {},
   "outputs": [],
   "source": [
    "# SQUID Parameters \n",
    "lambda=1/3;                 #Ls/Lj (Josepson inductance Lj=h_bar/2eIc)\n",
    "Ls=18.9e-12;                #Squid Self inductance\n",
    "Lj=lambda*Ls;               #(Josepson inductance Lj=h_bar/2eIc)       \n",
    "Lc=77.6e-12;                #Screening Inductance\n",
    "Mc=1.65e-12;                #Screening Mutual Inductance"
   ]
  },
  {
   "cell_type": "code",
   "execution_count": null,
   "metadata": {},
   "outputs": [],
   "source": [
    "# Parameters Resonator\n",
    "f1=6e9;               #Unperturbed Resonance Frequency\n",
    "Z1=50;                #Resonator Impedance\n",
    "Cc=1e-12;             #Coupling Capacitance"
   ]
  },
  {
   "cell_type": "code",
   "execution_count": null,
   "metadata": {},
   "outputs": [],
   "source": [
    "N=20;  #Number of points\n",
    "M=2;   #Number of Quantum Magnetic Fluxes  \n",
    "flux=np.arange(0,2*Phi0,M*Phi0/N);        #Flux Vector\n",
    "fr=f1-4*(f1**2)*Cc*Z1-4*(f1**2)*Lc/Z1+4*(f1**2)*lamda*Mc**2*np.cos(flux)/(Z1*Ls);   #Resonance frequency with flux"
   ]
  },
  {
   "cell_type": "code",
   "execution_count": null,
   "metadata": {},
   "outputs": [],
   "source": [
    "#Ploting Frequency Vs. Flux\n",
    "\n",
    "fig, ax = plt.subplots()\n",
    "ax.plot(fr/1e9,P/)\n",
    "\n",
    "ax.set(xlabel='Frequency [GHz]', ylabel='Power [pW]',\n",
    "       title='CMB Power in Diffraction limited Detector')\n",
    "ax.grid()\n",
    "\n",
    "fig.savefig(\"CBM-POWER.pdf\")\n",
    "plt.show()"
   ]
  }
 ],
 "metadata": {
  "kernelspec": {
   "display_name": "Python 3",
   "language": "python",
   "name": "python3"
  },
  "language_info": {
   "codemirror_mode": {
    "name": "ipython",
    "version": 3
   },
   "file_extension": ".py",
   "mimetype": "text/x-python",
   "name": "python",
   "nbconvert_exporter": "python",
   "pygments_lexer": "ipython3",
   "version": "3.7.6"
  }
 },
 "nbformat": 4,
 "nbformat_minor": 4
}
