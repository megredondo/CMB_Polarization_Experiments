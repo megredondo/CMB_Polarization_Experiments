{
 "cells": [
  {
   "cell_type": "code",
   "execution_count": null,
   "metadata": {},
   "outputs": [],
   "source": [
    "import numpy as np\n",
    "\n",
    "phi0=2e-15       # Quantum magnetic flux\n",
    "T=1              # temperature of LNA\n",
    "k=1.38e-23       # boltzman constant\n",
    "L=60e-12         # inductance\n",
    "f0=6e9\n",
    "\n",
    "S=((4*k*T*L)/(np.pi*f0))\n",
    "\n",
    "Ss=(S**(0.5))/phi0\n",
    "\n",
    "Ss/1e-6"
   ]
  },
  {
   "cell_type": "code",
   "execution_count": null,
   "metadata": {},
   "outputs": [],
   "source": []
  }
 ],
 "metadata": {
  "kernelspec": {
   "display_name": "Python 3",
   "language": "python",
   "name": "python3"
  },
  "language_info": {
   "codemirror_mode": {
    "name": "ipython",
    "version": 3
   },
   "file_extension": ".py",
   "mimetype": "text/x-python",
   "name": "python",
   "nbconvert_exporter": "python",
   "pygments_lexer": "ipython3",
   "version": "3.7.3"
  }
 },
 "nbformat": 4,
 "nbformat_minor": 4
}
