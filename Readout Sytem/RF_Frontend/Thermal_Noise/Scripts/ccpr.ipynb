{
 "cells": [
  {
   "cell_type": "code",
   "execution_count": 11,
   "metadata": {},
   "outputs": [
    {
     "ename": "ValueError",
     "evalue": "operands could not be broadcast together with shapes (2,) (1000,) ",
     "output_type": "error",
     "traceback": [
      "\u001b[0;31m---------------------------------------------------------------------------\u001b[0m",
      "\u001b[0;31mValueError\u001b[0m                                Traceback (most recent call last)",
      "\u001b[0;32m<ipython-input-11-8e12679bff4d>\u001b[0m in \u001b[0;36m<module>\u001b[0;34m\u001b[0m\n\u001b[1;32m     11\u001b[0m \u001b[0;34m\u001b[0m\u001b[0m\n\u001b[1;32m     12\u001b[0m \u001b[0;31m#variables\u001b[0m\u001b[0;34m\u001b[0m\u001b[0;34m\u001b[0m\u001b[0;34m\u001b[0m\u001b[0m\n\u001b[0;32m---> 13\u001b[0;31m \u001b[0mIMR2dbm\u001b[0m\u001b[0;34m=\u001b[0m\u001b[0;36m2\u001b[0m\u001b[0;34m*\u001b[0m\u001b[0;34m(\u001b[0m\u001b[0mOIP3dbm\u001b[0m\u001b[0;34m-\u001b[0m\u001b[0mPtonedbm\u001b[0m\u001b[0;34m-\u001b[0m\u001b[0mG\u001b[0m\u001b[0;34m-\u001b[0m\u001b[0;36m10\u001b[0m\u001b[0;34m*\u001b[0m\u001b[0mnp\u001b[0m\u001b[0;34m.\u001b[0m\u001b[0mlog10\u001b[0m\u001b[0;34m(\u001b[0m\u001b[0mK\u001b[0m\u001b[0;34m)\u001b[0m\u001b[0;34m)\u001b[0m\u001b[0;34m+\u001b[0m\u001b[0;36m6\u001b[0m\u001b[0;34m\u001b[0m\u001b[0;34m\u001b[0m\u001b[0m\n\u001b[0m\u001b[1;32m     14\u001b[0m \u001b[0mb\u001b[0m\u001b[0;34m=\u001b[0m\u001b[0mnp\u001b[0m\u001b[0;34m.\u001b[0m\u001b[0mround\u001b[0m\u001b[0;34m(\u001b[0m\u001b[0;34m(\u001b[0m\u001b[0mK\u001b[0m\u001b[0;34m-\u001b[0m\u001b[0;36m1\u001b[0m\u001b[0;34m)\u001b[0m\u001b[0;34m/\u001b[0m\u001b[0;36m2\u001b[0m\u001b[0;34m)\u001b[0m\u001b[0;34m\u001b[0m\u001b[0;34m\u001b[0m\u001b[0m\n\u001b[1;32m     15\u001b[0m \u001b[0me2\u001b[0m\u001b[0;34m=\u001b[0m\u001b[0mnp\u001b[0m\u001b[0;34m.\u001b[0m\u001b[0mmod\u001b[0m\u001b[0;34m(\u001b[0m\u001b[0mK\u001b[0m\u001b[0;34m+\u001b[0m\u001b[0mb\u001b[0m\u001b[0;34m,\u001b[0m\u001b[0;36m2\u001b[0m\u001b[0;34m)\u001b[0m\u001b[0;34m\u001b[0m\u001b[0;34m\u001b[0m\u001b[0m\n",
      "\u001b[0;31mValueError\u001b[0m: operands could not be broadcast together with shapes (2,) (1000,) "
     ]
    }
   ],
   "source": [
    "import numpy as np\n",
    "import math\n",
    "import matplotlib.pyplot as plt\n",
    "\n",
    "#powers, amps and tones\n",
    "K=np.arange(1,1001,1)\n",
    "Ptonedbm=np.linspace(-120,-60,2)\n",
    "x,y= np.meshgrid(K,Ptonedbm)\n",
    "OIP3dbm=-2\n",
    "G=39\n",
    "\n",
    "#variables\n",
    "IMR2dbm=2*(OIP3dbm-Ptonedbm-G-10*np.log10(K))+6\n",
    "b=np.round((K-1)/2)\n",
    "e2=np.mod(K+b,2)\n",
    "e3=np.mod(b+1,2)\n",
    "\n",
    "N3=((K-b-2)/2)**2-e2/4+((b-1)/2)**2-e3/4+b*(K-b-2)+b\n",
    "M3=((K-b-2)/2+e2/2+((b-1)/2)+e3/2)\n",
    "S=6*K-3\n",
    "\n",
    "C=IMR2dbm-6+10*np.log10((K**2)/(4*N3+M3+(S**2)/9))\n",
    "Cnorm=-6+10*np.log10((K**2)/(4*N3+M3+(S**2)/9))\n",
    "\n",
    "\n",
    "print(C[0])\n",
    "print(C[9])\n",
    "print(C[99])\n",
    "print(C[999])\n",
    "\n",
    "c0=plt.stem(K,C)\n",
    "plt.show()\n",
    "c0=plt.stem(K,Cnorm)\n",
    "plt.show()"
   ]
  },
  {
   "cell_type": "code",
   "execution_count": 6,
   "metadata": {},
   "outputs": [
    {
     "data": {
      "image/png": "[encoded data removed]",
      "text/plain": [
       "<Figure size 432x288 with 2 Axes>"
      ]
     },
     "metadata": {
      "needs_background": "light"
     },
     "output_type": "display_data"
    }
   ],
   "source": [
    "import numpy as np\n",
    "import math\n",
    "import matplotlib.pyplot as plt\n",
    "\n",
    "## This script calculates the CCPR as function of tone power and number of tones\n",
    "\n",
    "#powers, amps and tones\n",
    "K=np.arange(1,1001,1)\n",
    "Ptonedbm=np.linspace(-120,-80,2)\n",
    "x,y= np.meshgrid(K,Ptonedbm)\n",
    "OIP3dbm=-2\n",
    "G=39\n",
    "\n",
    "#variables\n",
    "IMR2dbm=2*(OIP3dbm-y-G-10*np.log10(x))+6\n",
    "b=np.round((x-1)/2)\n",
    "e2=np.mod(x+b,2)\n",
    "e3=np.mod(b+1,2)\n",
    "\n",
    "N3=((x-b-2)/2)**2-e2/4+((b-1)/2)**2-e3/4+b*(x-b-2)+b\n",
    "M3=((x-b-2)/2+e2/2+((b-1)/2)+e3/2)\n",
    "S=6*x-3\n",
    "\n",
    "C=IMR2dbm-6+10*np.log10((K**2)/(4*N3+M3+(S**2)/9))\n",
    "Cnorm=-6+10*np.log10((K**2)/(4*N3+M3+(S**2)/9))\n",
    "\n",
    "c1=plt.contourf(x,y,C)\n",
    "plt.colorbar()\n",
    "plt.xlabel(\"$Number$ $of$ $Tones$\")\n",
    "plt.ylabel(\"$Tone$ $Power$ [dBm]\")\n",
    "plt.title(\"CCPR [dB]\")\n",
    "plt.savefig('CCPR.pdf')\n",
    "plt.show()"
   ]
  },
  {
   "cell_type": "code",
   "execution_count": null,
   "metadata": {},
   "outputs": [],
   "source": []
  },
  {
   "cell_type": "code",
   "execution_count": null,
   "metadata": {},
   "outputs": [],
   "source": []
  }
 ],
 "metadata": {
  "kernelspec": {
   "display_name": "Python 3",
   "language": "python",
   "name": "python3"
  },
  "language_info": {
   "codemirror_mode": {
    "name": "ipython",
    "version": 3
   },
   "file_extension": ".py",
   "mimetype": "text/x-python",
   "name": "python",
   "nbconvert_exporter": "python",
   "pygments_lexer": "ipython3",
   "version": "3.7.3"
  }
 },
 "nbformat": 4,
 "nbformat_minor": 4
}
